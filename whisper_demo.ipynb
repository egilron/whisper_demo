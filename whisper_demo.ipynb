{
 "cells": [
  {
   "cell_type": "markdown",
   "metadata": {},
   "source": [
    "## Kjøre whisper lokalt\n",
    "`https://huggingface.co/NbAiLab/nb-whisper-small`\n"
   ]
  },
  {
   "cell_type": "code",
   "execution_count": 3,
   "metadata": {},
   "outputs": [],
   "source": [
    "# Download the sample file\n",
    "# !wget -N https://github.com/NbAiLab/nb-whisper/raw/main/audio/king.mp3\n",
    "#  sudo apt install ffmpeg\n",
    "from transformers import pipeline, logging\n",
    "import warnings\n",
    "logging.set_verbosity_error()\n",
    "warnings.filterwarnings(\"ignore\")\n",
    "# Load the model\n",
    "asr = pipeline(\"automatic-speech-recognition\", \"NbAiLabBeta/nb-whisper-small\") # small: ca 1 GB å laste ned\n"
   ]
  },
  {
   "cell_type": "code",
   "execution_count": 4,
   "metadata": {},
   "outputs": [
    {
     "name": "stdout",
     "output_type": "stream",
     "text": [
      " Hei, jeg heter Egil. Jeg er fra Løten. Nå har jeg rest til Oslo for å treffe noen hyggelige folk og snakke om språkmodeller. Nå tror jeg at jeg spiller inn ei lydfill i VAV-format.\n"
     ]
    }
   ],
   "source": [
    "kilde = \"Egil pres 1.wav\"\n",
    "# kilde = \"king.mp3\"\n",
    "#transcribe\n",
    "transkribert = asr(kilde, generate_kwargs={'task': 'transcribe', 'language': 'no'})\n",
    "\n",
    "print(transkribert.get(\"text\"))"
   ]
  },
  {
   "cell_type": "code",
   "execution_count": null,
   "metadata": {},
   "outputs": [],
   "source": []
  }
 ],
 "metadata": {
  "kernelspec": {
   "display_name": "transformers",
   "language": "python",
   "name": "python3"
  },
  "language_info": {
   "codemirror_mode": {
    "name": "ipython",
    "version": 3
   },
   "file_extension": ".py",
   "mimetype": "text/x-python",
   "name": "python",
   "nbconvert_exporter": "python",
   "pygments_lexer": "ipython3",
   "version": "3.10.13"
  }
 },
 "nbformat": 4,
 "nbformat_minor": 2
}
