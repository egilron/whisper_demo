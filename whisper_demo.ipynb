{
 "cells": [
  {
   "cell_type": "markdown",
   "metadata": {},
   "source": [
    "## Kjøre whisper lokalt\n",
    "`https://huggingface.co/NbAiLab/nb-whisper-small`\n"
   ]
  },
  {
   "cell_type": "code",
   "execution_count": 8,
   "metadata": {},
   "outputs": [
    {
     "name": "stderr",
     "output_type": "stream",
     "text": [
      "Special tokens have been added in the vocabulary, make sure the associated word embeddings are fine-tuned or trained.\n"
     ]
    }
   ],
   "source": [
    "# Download the sample file\n",
    "# !wget -N https://github.com/NbAiLab/nb-whisper/raw/main/audio/king.mp3\n",
    "#  sudo apt install ffmpeg\n",
    "from transformers import pipeline\n",
    "\n",
    "# Load the model\n",
    "asr = pipeline(\"automatic-speech-recognition\", \"NbAiLabBeta/nb-whisper-small\") # small: ca 1 GB å laste ned\n"
   ]
  },
  {
   "cell_type": "code",
   "execution_count": 9,
   "metadata": {},
   "outputs": [
    {
     "name": "stdout",
     "output_type": "stream",
     "text": [
      " Nordmenn er nordlendinger, trøndere, sørlendinger og folk fra alle andre regioner. Nordmenn er også innvandret fra Afghanistan, Pakistan og Polen, Sverige, Somalia og Syria. Det er ikke alltid så lett å si hvor vi er fra, hvilken nasjonalitet vi tilhører. Det vi kaller hjem, er der hjertet vårt er. Og det kan ikke alltid plasseres innenfor landegrenser. Nordmenn er jenter som er glad i jenter, gutter som er glad i gutter, og jenter og gutter som er glad i hverandre. Nordmenn tror på Gud, Allah, altet og ingenting. Nordmenn liker Grieg, Hygo, Helbillis og Kari Bremnes. Med andre ord, Norge er dere, Norge er oss. Mitt største håp for Norge er at vi skal klare å ta vare på hverandre. At vi skal bygge dette landet videre på tillit, fellesskap og raushet.\n"
     ]
    }
   ],
   "source": [
    "# kilde = \"Egil pres 1.wav\"\n",
    "kilde = \"king.mp3\"\n",
    "#transcribe\n",
    "transkribert = asr(kilde, generate_kwargs={'task': 'transcribe', 'language': 'no'})\n",
    "\n",
    "print(transkribert.get(\"text\"))"
   ]
  }
 ],
 "metadata": {
  "kernelspec": {
   "display_name": "transformers",
   "language": "python",
   "name": "python3"
  },
  "language_info": {
   "codemirror_mode": {
    "name": "ipython",
    "version": 3
   },
   "file_extension": ".py",
   "mimetype": "text/x-python",
   "name": "python",
   "nbconvert_exporter": "python",
   "pygments_lexer": "ipython3",
   "version": "3.10.13"
  }
 },
 "nbformat": 4,
 "nbformat_minor": 2
}
